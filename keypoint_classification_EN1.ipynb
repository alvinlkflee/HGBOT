{
  "cells": [
    {
      "cell_type": "code",
      "execution_count": 3,
      "metadata": {
        "id": "igMyGnjE9hEp"
      },
      "outputs": [],
      "source": [
        "import csv\n",
        "import numpy as np\n",
        "import tensorflow as tf\n",
        "from sklearn.model_selection import train_test_split\n",
        "\n",
        "RANDOM_SEED = 42"
      ]
    },
    {
      "cell_type": "markdown",
      "metadata": {
        "id": "t2HDvhIu9hEr"
      },
      "source": [
        "# Specify each path"
      ]
    },
    {
      "cell_type": "code",
      "execution_count": 4,
      "metadata": {
        "id": "9NvZP2Zn9hEy"
      },
      "outputs": [],
      "source": [
        "dataset = 'model/keypoint_classifier/keypoint.csv'\n",
        "model_save_path = 'model/keypoint_classifier/keypoint_classifier.hdf5'\n",
        "tflite_save_path = 'model/keypoint_classifier/keypoint_classifier.tflite'"
      ]
    },
    {
      "cell_type": "markdown",
      "metadata": {
        "id": "s5oMH7x19hEz"
      },
      "source": [
        "# Set number of classes"
      ]
    },
    {
      "cell_type": "code",
      "execution_count": 5,
      "metadata": {
        "id": "du4kodXL9hEz"
      },
      "outputs": [],
      "source": [
        "NUM_CLASSES = 6"
      ]
    },
    {
      "cell_type": "markdown",
      "metadata": {
        "id": "XjnL0uso9hEz"
      },
      "source": [
        "# Dataset reading"
      ]
    },
    {
      "cell_type": "code",
      "execution_count": 6,
      "metadata": {
        "id": "QT5ZqtEz9hE0"
      },
      "outputs": [],
      "source": [
        "X_dataset = np.loadtxt(dataset, delimiter=',', dtype='float32', usecols=list(range(1, (21 * 2) + 1)))"
      ]
    },
    {
      "cell_type": "code",
      "execution_count": 7,
      "metadata": {
        "id": "QmoKFsp49hE0"
      },
      "outputs": [],
      "source": [
        "y_dataset = np.loadtxt(dataset, delimiter=',', dtype='int32', usecols=(0))"
      ]
    },
    {
      "cell_type": "code",
      "execution_count": 8,
      "metadata": {
        "id": "xQU7JTZ_9hE0"
      },
      "outputs": [],
      "source": [
        "X_train, X_test, y_train, y_test = train_test_split(X_dataset, y_dataset, train_size=0.75, random_state=RANDOM_SEED)"
      ]
    },
    {
      "cell_type": "markdown",
      "metadata": {
        "id": "mxK_lETT9hE0"
      },
      "source": [
        "# Model building"
      ]
    },
    {
      "cell_type": "code",
      "execution_count": 9,
      "metadata": {
        "id": "vHBmUf1t9hE1"
      },
      "outputs": [],
      "source": [
        "model = tf.keras.models.Sequential([\n",
        "    tf.keras.layers.Input((21 * 2, )),\n",
        "    tf.keras.layers.Dropout(0.2),\n",
        "    tf.keras.layers.Dense(20, activation='relu'),\n",
        "    tf.keras.layers.Dropout(0.4),\n",
        "    tf.keras.layers.Dense(10, activation='relu'),\n",
        "    tf.keras.layers.Dense(NUM_CLASSES, activation='softmax')\n",
        "])"
      ]
    },
    {
      "cell_type": "code",
      "execution_count": 10,
      "metadata": {
        "colab": {
          "base_uri": "https://localhost:8080/"
        },
        "id": "ypqky9tc9hE1",
        "outputId": "5db082bb-30e3-4110-bf63-a1ee777ecd46"
      },
      "outputs": [
        {
          "name": "stdout",
          "output_type": "stream",
          "text": [
            "Model: \"sequential\"\n",
            "_________________________________________________________________\n",
            " Layer (type)                Output Shape              Param #   \n",
            "=================================================================\n",
            " dropout (Dropout)           (None, 42)                0         \n",
            "                                                                 \n",
            " dense (Dense)               (None, 20)                860       \n",
            "                                                                 \n",
            " dropout_1 (Dropout)         (None, 20)                0         \n",
            "                                                                 \n",
            " dense_1 (Dense)             (None, 10)                210       \n",
            "                                                                 \n",
            " dense_2 (Dense)             (None, 6)                 66        \n",
            "                                                                 \n",
            "=================================================================\n",
            "Total params: 1136 (4.44 KB)\n",
            "Trainable params: 1136 (4.44 KB)\n",
            "Non-trainable params: 0 (0.00 Byte)\n",
            "_________________________________________________________________\n"
          ]
        }
      ],
      "source": [
        "model.summary()  # tf.keras.utils.plot_model(model, show_shapes=True)"
      ]
    },
    {
      "cell_type": "code",
      "execution_count": 11,
      "metadata": {
        "id": "MbMjOflQ9hE1"
      },
      "outputs": [],
      "source": [
        "# Model checkpoint callback\n",
        "cp_callback = tf.keras.callbacks.ModelCheckpoint(\n",
        "    model_save_path, verbose=1, save_weights_only=False)\n",
        "# Callback for early stopping\n",
        "es_callback = tf.keras.callbacks.EarlyStopping(patience=20, verbose=1)"
      ]
    },
    {
      "cell_type": "code",
      "execution_count": 12,
      "metadata": {
        "id": "c3Dac0M_9hE2"
      },
      "outputs": [],
      "source": [
        "# Model compilation\n",
        "model.compile(\n",
        "    optimizer='adam',\n",
        "    loss='sparse_categorical_crossentropy',\n",
        "    metrics=['accuracy']\n",
        ")"
      ]
    },
    {
      "cell_type": "markdown",
      "metadata": {
        "id": "7XI0j1Iu9hE2"
      },
      "source": [
        "# Model training"
      ]
    },
    {
      "cell_type": "code",
      "execution_count": 29,
      "metadata": {
        "colab": {
          "base_uri": "https://localhost:8080/"
        },
        "id": "WirBl-JE9hE3",
        "outputId": "71b30ca2-8294-4d9d-8aa2-800d90d399de",
        "scrolled": true
      },
      "outputs": [
        {
          "name": "stdout",
          "output_type": "stream",
          "text": [
            "Epoch 1/1000\n",
            "24/41 [================>.............] - ETA: 0s - loss: 0.7046 - accuracy: 0.7386\n",
            "Epoch 1: saving model to model/keypoint_classifier\\keypoint_classifier.hdf5\n",
            "41/41 [==============================] - 0s 6ms/step - loss: 0.7136 - accuracy: 0.7316 - val_loss: 0.3206 - val_accuracy: 0.9408\n",
            "Epoch 2/1000\n",
            "27/41 [==================>...........] - ETA: 0s - loss: 0.7076 - accuracy: 0.7439\n",
            "Epoch 2: saving model to model/keypoint_classifier\\keypoint_classifier.hdf5\n"
          ]
        },
        {
          "name": "stderr",
          "output_type": "stream",
          "text": [
            "C:\\Users\\USER\\AppData\\Roaming\\Python\\Python311\\site-packages\\keras\\src\\engine\\training.py:3000: UserWarning: You are saving your model as an HDF5 file via `model.save()`. This file format is considered legacy. We recommend using instead the native Keras format, e.g. `model.save('my_model.keras')`.\n",
            "  saving_api.save_model(\n"
          ]
        },
        {
          "name": "stdout",
          "output_type": "stream",
          "text": [
            "41/41 [==============================] - 0s 5ms/step - loss: 0.7055 - accuracy: 0.7414 - val_loss: 0.3248 - val_accuracy: 0.9356\n",
            "Epoch 3/1000\n",
            "23/41 [===============>..............] - ETA: 0s - loss: 0.7110 - accuracy: 0.7439\n",
            "Epoch 3: saving model to model/keypoint_classifier\\keypoint_classifier.hdf5\n",
            "41/41 [==============================] - 0s 4ms/step - loss: 0.6973 - accuracy: 0.7449 - val_loss: 0.3167 - val_accuracy: 0.9414\n",
            "Epoch 4/1000\n",
            "22/41 [===============>..............] - ETA: 0s - loss: 0.7215 - accuracy: 0.7333\n",
            "Epoch 4: saving model to model/keypoint_classifier\\keypoint_classifier.hdf5\n",
            "41/41 [==============================] - 0s 4ms/step - loss: 0.7252 - accuracy: 0.7309 - val_loss: 0.3240 - val_accuracy: 0.9351\n",
            "Epoch 5/1000\n",
            "23/41 [===============>..............] - ETA: 0s - loss: 0.7307 - accuracy: 0.7252\n",
            "Epoch 5: saving model to model/keypoint_classifier\\keypoint_classifier.hdf5\n",
            "41/41 [==============================] - 0s 5ms/step - loss: 0.7247 - accuracy: 0.7284 - val_loss: 0.3226 - val_accuracy: 0.9414\n",
            "Epoch 6/1000\n",
            "21/41 [==============>...............] - ETA: 0s - loss: 0.7033 - accuracy: 0.7325\n",
            "Epoch 6: saving model to model/keypoint_classifier\\keypoint_classifier.hdf5\n",
            "41/41 [==============================] - 0s 5ms/step - loss: 0.7157 - accuracy: 0.7343 - val_loss: 0.3243 - val_accuracy: 0.9322\n",
            "Epoch 7/1000\n",
            "23/41 [===============>..............] - ETA: 0s - loss: 0.7069 - accuracy: 0.7337\n",
            "Epoch 7: saving model to model/keypoint_classifier\\keypoint_classifier.hdf5\n",
            "41/41 [==============================] - 0s 5ms/step - loss: 0.7027 - accuracy: 0.7393 - val_loss: 0.3225 - val_accuracy: 0.9293\n",
            "Epoch 8/1000\n",
            "23/41 [===============>..............] - ETA: 0s - loss: 0.7093 - accuracy: 0.7381\n",
            "Epoch 8: saving model to model/keypoint_classifier\\keypoint_classifier.hdf5\n",
            "41/41 [==============================] - 0s 5ms/step - loss: 0.7155 - accuracy: 0.7351 - val_loss: 0.3228 - val_accuracy: 0.9402\n",
            "Epoch 9/1000\n",
            "26/41 [==================>...........] - ETA: 0s - loss: 0.7019 - accuracy: 0.7455\n",
            "Epoch 9: saving model to model/keypoint_classifier\\keypoint_classifier.hdf5\n",
            "41/41 [==============================] - 0s 5ms/step - loss: 0.7028 - accuracy: 0.7460 - val_loss: 0.3193 - val_accuracy: 0.9402\n",
            "Epoch 10/1000\n",
            "24/41 [================>.............] - ETA: 0s - loss: 0.7230 - accuracy: 0.7279\n",
            "Epoch 10: saving model to model/keypoint_classifier\\keypoint_classifier.hdf5\n",
            "41/41 [==============================] - 0s 6ms/step - loss: 0.7238 - accuracy: 0.7322 - val_loss: 0.3282 - val_accuracy: 0.9362\n",
            "Epoch 11/1000\n",
            "21/41 [==============>...............] - ETA: 0s - loss: 0.7370 - accuracy: 0.7288\n",
            "Epoch 11: saving model to model/keypoint_classifier\\keypoint_classifier.hdf5\n",
            "41/41 [==============================] - 0s 5ms/step - loss: 0.7249 - accuracy: 0.7341 - val_loss: 0.3354 - val_accuracy: 0.9397\n",
            "Epoch 12/1000\n",
            "21/41 [==============>...............] - ETA: 0s - loss: 0.7258 - accuracy: 0.7362\n",
            "Epoch 12: saving model to model/keypoint_classifier\\keypoint_classifier.hdf5\n",
            "41/41 [==============================] - 0s 5ms/step - loss: 0.7168 - accuracy: 0.7351 - val_loss: 0.3332 - val_accuracy: 0.9402\n",
            "Epoch 13/1000\n",
            "26/41 [==================>...........] - ETA: 0s - loss: 0.7228 - accuracy: 0.7227\n",
            "Epoch 13: saving model to model/keypoint_classifier\\keypoint_classifier.hdf5\n",
            "41/41 [==============================] - 0s 5ms/step - loss: 0.7209 - accuracy: 0.7240 - val_loss: 0.3342 - val_accuracy: 0.9299\n",
            "Epoch 14/1000\n",
            "28/41 [===================>..........] - ETA: 0s - loss: 0.7297 - accuracy: 0.7232\n",
            "Epoch 14: saving model to model/keypoint_classifier\\keypoint_classifier.hdf5\n",
            "41/41 [==============================] - 0s 4ms/step - loss: 0.7251 - accuracy: 0.7292 - val_loss: 0.3395 - val_accuracy: 0.9299\n",
            "Epoch 15/1000\n",
            "22/41 [===============>..............] - ETA: 0s - loss: 0.6800 - accuracy: 0.7521\n",
            "Epoch 15: saving model to model/keypoint_classifier\\keypoint_classifier.hdf5\n",
            "41/41 [==============================] - 0s 5ms/step - loss: 0.6991 - accuracy: 0.7380 - val_loss: 0.3317 - val_accuracy: 0.9420\n",
            "Epoch 16/1000\n",
            "28/41 [===================>..........] - ETA: 0s - loss: 0.7355 - accuracy: 0.7201\n",
            "Epoch 16: saving model to model/keypoint_classifier\\keypoint_classifier.hdf5\n",
            "41/41 [==============================] - 0s 5ms/step - loss: 0.7255 - accuracy: 0.7284 - val_loss: 0.3349 - val_accuracy: 0.9333\n",
            "Epoch 17/1000\n",
            "26/41 [==================>...........] - ETA: 0s - loss: 0.7033 - accuracy: 0.7440\n",
            "Epoch 17: saving model to model/keypoint_classifier\\keypoint_classifier.hdf5\n",
            "41/41 [==============================] - 0s 5ms/step - loss: 0.7132 - accuracy: 0.7359 - val_loss: 0.3233 - val_accuracy: 0.9368\n",
            "Epoch 18/1000\n",
            "20/41 [=============>................] - ETA: 0s - loss: 0.6982 - accuracy: 0.7434\n",
            "Epoch 18: saving model to model/keypoint_classifier\\keypoint_classifier.hdf5\n",
            "41/41 [==============================] - 0s 5ms/step - loss: 0.6998 - accuracy: 0.7401 - val_loss: 0.3366 - val_accuracy: 0.9328\n",
            "Epoch 19/1000\n",
            "21/41 [==============>...............] - ETA: 0s - loss: 0.7211 - accuracy: 0.7307\n",
            "Epoch 19: saving model to model/keypoint_classifier\\keypoint_classifier.hdf5\n",
            "41/41 [==============================] - 0s 5ms/step - loss: 0.7127 - accuracy: 0.7341 - val_loss: 0.3341 - val_accuracy: 0.9299\n",
            "Epoch 20/1000\n",
            "41/41 [==============================] - ETA: 0s - loss: 0.7195 - accuracy: 0.7336\n",
            "Epoch 20: saving model to model/keypoint_classifier\\keypoint_classifier.hdf5\n",
            "41/41 [==============================] - 0s 5ms/step - loss: 0.7195 - accuracy: 0.7336 - val_loss: 0.3352 - val_accuracy: 0.9316\n",
            "Epoch 21/1000\n",
            "22/41 [===============>..............] - ETA: 0s - loss: 0.7162 - accuracy: 0.7372\n",
            "Epoch 21: saving model to model/keypoint_classifier\\keypoint_classifier.hdf5\n",
            "41/41 [==============================] - 0s 5ms/step - loss: 0.7089 - accuracy: 0.7420 - val_loss: 0.3375 - val_accuracy: 0.9356\n",
            "Epoch 22/1000\n",
            "20/41 [=============>................] - ETA: 0s - loss: 0.7353 - accuracy: 0.7309\n",
            "Epoch 22: saving model to model/keypoint_classifier\\keypoint_classifier.hdf5\n",
            "41/41 [==============================] - 0s 6ms/step - loss: 0.7233 - accuracy: 0.7384 - val_loss: 0.3283 - val_accuracy: 0.9385\n",
            "Epoch 23/1000\n",
            "24/41 [================>.............] - ETA: 0s - loss: 0.7056 - accuracy: 0.7393\n",
            "Epoch 23: saving model to model/keypoint_classifier\\keypoint_classifier.hdf5\n",
            "41/41 [==============================] - 0s 5ms/step - loss: 0.7078 - accuracy: 0.7389 - val_loss: 0.3302 - val_accuracy: 0.9391\n",
            "Epoch 23: early stopping\n"
          ]
        },
        {
          "data": {
            "text/plain": [
              "<keras.src.callbacks.History at 0x2e663012950>"
            ]
          },
          "execution_count": 29,
          "metadata": {},
          "output_type": "execute_result"
        }
      ],
      "source": [
        "# Check data shapes\n",
        "assert X_train.shape[0] == y_train.shape[0], \"Mismatch in number of samples between X_train and y_train\"\n",
        "assert X_test.shape[0] == y_test.shape[0], \"Mismatch in number of samples between X_test and y_test\"\n",
        "\n",
        "try:\n",
        "    # Train the model\n",
        "    model.fit(\n",
        "        X_train,\n",
        "        y_train,\n",
        "        epochs=1000,\n",
        "        batch_size=128,\n",
        "        validation_data=(X_test, y_test),\n",
        "        callbacks=[cp_callback, es_callback]\n",
        "    )\n",
        "\n",
        "except MemoryError:\n",
        "    print(\"Out-of-memory error encountered. Consider reducing the batch size or using a smaller dataset.\")\n"
      ]
    },
    {
      "cell_type": "code",
      "execution_count": 14,
      "metadata": {
        "colab": {
          "base_uri": "https://localhost:8080/"
        },
        "id": "pxvb2Y299hE3",
        "outputId": "59eb3185-2e37-4b9e-bc9d-ab1b8ac29b7f"
      },
      "outputs": [
        {
          "name": "stdout",
          "output_type": "stream",
          "text": [
            "14/14 [==============================] - 0s 2ms/step - loss: 0.3309 - accuracy: 0.9385\n"
          ]
        }
      ],
      "source": [
        "# Model evaluation\n",
        "val_loss, val_acc = model.evaluate(X_test, y_test, batch_size=128)"
      ]
    },
    {
      "cell_type": "code",
      "execution_count": 15,
      "metadata": {
        "id": "RBkmDeUW9hE4"
      },
      "outputs": [],
      "source": [
        "# Loading the saved model\n",
        "model = tf.keras.models.load_model(model_save_path)"
      ]
    },
    {
      "cell_type": "code",
      "execution_count": 16,
      "metadata": {
        "colab": {
          "base_uri": "https://localhost:8080/"
        },
        "id": "tFz9Tb0I9hE4",
        "outputId": "1c3b3528-54ae-4ee2-ab04-77429211cbef"
      },
      "outputs": [
        {
          "name": "stdout",
          "output_type": "stream",
          "text": [
            "1/1 [==============================] - 0s 133ms/step\n",
            "[1.5494081e-01 4.7580963e-03 2.9854837e-04 1.1382535e-02 8.2736528e-01\n",
            " 1.2546607e-03]\n",
            "4\n"
          ]
        }
      ],
      "source": [
        "# Inference test\n",
        "predict_result = model.predict(np.array([X_test[0]]))\n",
        "print(np.squeeze(predict_result))\n",
        "print(np.argmax(np.squeeze(predict_result)))"
      ]
    },
    {
      "cell_type": "markdown",
      "metadata": {
        "id": "S3U4yNWx9hE4"
      },
      "source": [
        "# Confusion matrix"
      ]
    },
    {
      "cell_type": "code",
      "execution_count": 31,
      "metadata": {
        "colab": {
          "base_uri": "https://localhost:8080/",
          "height": 582
        },
        "id": "AP1V6SCk9hE5",
        "outputId": "08e41a80-7a4a-4619-8125-ecc371368d19"
      },
      "outputs": [
        {
          "name": "stdout",
          "output_type": "stream",
          "text": [
            "55/55 [==============================] - 0s 3ms/step\n"
          ]
        },
        {
          "data": {
            "image/png": "[encoded data removed]",
            "text/plain": [
              "<Figure size 700x600 with 2 Axes>"
            ]
          },
          "metadata": {},
          "output_type": "display_data"
        },
        {
          "name": "stdout",
          "output_type": "stream",
          "text": [
            "Classification Report\n",
            "              precision    recall  f1-score   support\n",
            "\n",
            "           0       0.93      0.89      0.91       410\n",
            "           1       0.99      0.93      0.96       391\n",
            "           2       0.92      0.98      0.95       335\n",
            "           3       1.00      0.97      0.99       117\n",
            "           4       0.83      0.92      0.87       221\n",
            "           5       0.98      0.97      0.98       266\n",
            "\n",
            "    accuracy                           0.94      1740\n",
            "   macro avg       0.94      0.94      0.94      1740\n",
            "weighted avg       0.94      0.94      0.94      1740\n",
            "\n"
          ]
        }
      ],
      "source": [
        "import pandas as pd\n",
        "import seaborn as sns\n",
        "import matplotlib.pyplot as plt\n",
        "from sklearn.metrics import confusion_matrix, classification_report\n",
        "\n",
        "def print_confusion_matrix(y_true, y_pred, report=True):\n",
        "    labels = sorted(list(set(y_true)))\n",
        "    cmx_data = confusion_matrix(y_true, y_pred, labels=labels)\n",
        "    \n",
        "    df_cmx = pd.DataFrame(cmx_data, index=labels, columns=labels)\n",
        " \n",
        "    fig, ax = plt.subplots(figsize=(7, 6))\n",
        "    sns.heatmap(df_cmx, annot=True, fmt='g' ,square=False)\n",
        "    ax.set_ylim(len(set(y_true)), 0)\n",
        "    plt.show()\n",
        "    \n",
        "    if report:\n",
        "        print('Classification Report')\n",
        "        print(classification_report(y_test, y_pred))\n",
        "\n",
        "Y_pred = model.predict(X_test)\n",
        "y_pred = np.argmax(Y_pred, axis=1)\n",
        "\n",
        "print_confusion_matrix(y_test, y_pred)"
      ]
    },
    {
      "cell_type": "markdown",
      "metadata": {
        "id": "FNP6aqzc9hE5"
      },
      "source": [
        "# Convert to model for Tensorflow-Lite"
      ]
    },
    {
      "cell_type": "code",
      "execution_count": 18,
      "metadata": {
        "id": "ODjnYyld9hE6"
      },
      "outputs": [
        {
          "name": "stderr",
          "output_type": "stream",
          "text": [
            "C:\\Users\\USER\\AppData\\Roaming\\Python\\Python311\\site-packages\\keras\\src\\engine\\training.py:3000: UserWarning: You are saving your model as an HDF5 file via `model.save()`. This file format is considered legacy. We recommend using instead the native Keras format, e.g. `model.save('my_model.keras')`.\n",
            "  saving_api.save_model(\n"
          ]
        }
      ],
      "source": [
        "# Save as a model dedicated to inference\n",
        "model.save(model_save_path, include_optimizer=False)"
      ]
    },
    {
      "cell_type": "code",
      "execution_count": 19,
      "metadata": {
        "colab": {
          "base_uri": "https://localhost:8080/"
        },
        "id": "zRfuK8Y59hE6",
        "outputId": "a4ca585c-b5d5-4244-8291-8674063209bb"
      },
      "outputs": [
        {
          "name": "stdout",
          "output_type": "stream",
          "text": [
            "INFO:tensorflow:Assets written to: C:\\Users\\USER\\AppData\\Local\\Temp\\tmpcoaluaeg\\assets\n"
          ]
        },
        {
          "name": "stderr",
          "output_type": "stream",
          "text": [
            "INFO:tensorflow:Assets written to: C:\\Users\\USER\\AppData\\Local\\Temp\\tmpcoaluaeg\\assets\n"
          ]
        },
        {
          "data": {
            "text/plain": [
              "6632"
            ]
          },
          "execution_count": 19,
          "metadata": {},
          "output_type": "execute_result"
        }
      ],
      "source": [
        "# Transform model (quantization)\n",
        "\n",
        "converter = tf.lite.TFLiteConverter.from_keras_model(model)\n",
        "converter.optimizations = [tf.lite.Optimize.DEFAULT]\n",
        "tflite_quantized_model = converter.convert()\n",
        "\n",
        "open(tflite_save_path, 'wb').write(tflite_quantized_model)"
      ]
    },
    {
      "cell_type": "markdown",
      "metadata": {
        "id": "CHBPBXdx9hE6"
      },
      "source": [
        "# Inference test"
      ]
    },
    {
      "cell_type": "code",
      "execution_count": 20,
      "metadata": {
        "id": "mGAzLocO9hE7"
      },
      "outputs": [],
      "source": [
        "interpreter = tf.lite.Interpreter(model_path=tflite_save_path)\n",
        "interpreter.allocate_tensors()"
      ]
    },
    {
      "cell_type": "code",
      "execution_count": 21,
      "metadata": {
        "id": "oQuDK8YS9hE7"
      },
      "outputs": [],
      "source": [
        "# Get I / O tensor\n",
        "input_details = interpreter.get_input_details()\n",
        "output_details = interpreter.get_output_details()"
      ]
    },
    {
      "cell_type": "code",
      "execution_count": 22,
      "metadata": {
        "id": "2_ixAf_l9hE7"
      },
      "outputs": [],
      "source": [
        "interpreter.set_tensor(input_details[0]['index'], np.array([X_test[0]]))"
      ]
    },
    {
      "cell_type": "code",
      "execution_count": 23,
      "metadata": {
        "colab": {
          "base_uri": "https://localhost:8080/"
        },
        "id": "s4FoAnuc9hE7",
        "outputId": "91f18257-8d8b-4ef3-c558-e9b5f94fabbf",
        "scrolled": true
      },
      "outputs": [
        {
          "name": "stdout",
          "output_type": "stream",
          "text": [
            "CPU times: total: 0 ns\n",
            "Wall time: 689 µs\n"
          ]
        }
      ],
      "source": [
        "%%time\n",
        "# Inference implementation\n",
        "interpreter.invoke()\n",
        "tflite_results = interpreter.get_tensor(output_details[0]['index'])"
      ]
    },
    {
      "cell_type": "code",
      "execution_count": 24,
      "metadata": {
        "colab": {
          "base_uri": "https://localhost:8080/"
        },
        "id": "vONjp19J9hE8",
        "outputId": "77205e24-fd00-42c4-f7b6-e06e527c2cba"
      },
      "outputs": [
        {
          "name": "stdout",
          "output_type": "stream",
          "text": [
            "[1.5494089e-01 4.7580963e-03 2.9854893e-04 1.1382532e-02 8.2736522e-01\n",
            " 1.2546611e-03]\n",
            "4\n"
          ]
        }
      ],
      "source": [
        "print(np.squeeze(tflite_results))\n",
        "print(np.argmax(np.squeeze(tflite_results)))"
      ]
    }
  ],
  "metadata": {
    "accelerator": "GPU",
    "colab": {
      "collapsed_sections": [],
      "name": "keypoint_classification_EN.ipynb",
      "provenance": [],
      "toc_visible": true
    },
    "kernelspec": {
      "display_name": "base",
      "language": "python",
      "name": "python3"
    },
    "language_info": {
      "codemirror_mode": {
        "name": "ipython",
        "version": 3
      },
      "file_extension": ".py",
      "mimetype": "text/x-python",
      "name": "python",
      "nbconvert_exporter": "python",
      "pygments_lexer": "ipython3",
      "version": "3.11.7"
    }
  },
  "nbformat": 4,
  "nbformat_minor": 0
}
